{
  "cells": [
    {
      "cell_type": "code",
      "execution_count": null,
      "metadata": {
        "colab": {
          "base_uri": "https://localhost:8080/"
        },
        "id": "Wqebp8BX_lmO",
        "outputId": "c18100ec-64d2-474c-a9e7-851ab8d8ec18"
      },
      "outputs": [
        {
          "name": "stdout",
          "output_type": "stream",
          "text": [
            "Mounted at /content/drive\n"
          ]
        }
      ],
      "source": [
        "# from google.colab import drive\n",
        "# drive.mount('/content/drive', force_remount=True)"
      ]
    },
    {
      "cell_type": "code",
      "execution_count": 2,
      "metadata": {
        "id": "IDpn7hA0vxqh"
      },
      "outputs": [
        {
          "name": "stdout",
          "output_type": "stream",
          "text": [
            "WARNING:tensorflow:From c:\\Users\\deepa\\AppData\\Local\\Programs\\Python\\Python311\\Lib\\site-packages\\keras\\src\\losses.py:2976: The name tf.losses.sparse_softmax_cross_entropy is deprecated. Please use tf.compat.v1.losses.sparse_softmax_cross_entropy instead.\n",
            "\n"
          ]
        }
      ],
      "source": [
        "import tensorflow as tf\n",
        "\n",
        "import numpy as np\n",
        "import pandas as pd\n",
        "import matplotlib.pyplot as plt\n",
        "# %matplotlib inline\n",
        "from tensorflow.keras.models import load_model\n",
        "from multiprocessing import cpu_count\n",
        "from warnings import catch_warnings\n",
        "from warnings import filterwarnings\n",
        "from pandas import read_csv\n",
        "import matplotlib.pyplot as plt\n",
        "from pandas import DataFrame\n",
        "import time\n",
        "# from datetime import datetime\n",
        "import datetime\n",
        "import itertools\n",
        "import mysql.connector\n",
        "from mysql.connector import connection\n",
        "from mysql.connector import errorcode\n",
        "from statistics import mean"
      ]
    },
    {
      "cell_type": "code",
      "execution_count": 6,
      "metadata": {
        "id": "iUj-dJTOwa2l"
      },
      "outputs": [
        {
          "name": "stdout",
          "output_type": "stream",
          "text": [
            "[0.]\n"
          ]
        }
      ],
      "source": [
        "# station = ['t51']\n",
        "station = ['t50']\n",
        "previous_id = np.zeros(len(station))\n"
      ]
    },
    {
      "cell_type": "code",
      "execution_count": 7,
      "metadata": {
        "id": "hFH57JZowa5J"
      },
      "outputs": [],
      "source": [
        "def loadData(t):\n",
        "    myconn = mysql.connector.connect(host = \"82.180.142.51\",\n",
        "                                database = \"u978805288_land\",\n",
        "                                user = \"u978805288_root\",\n",
        "                                password= \"ACSL@b123\")\n",
        "    (myconn)\n",
        "\n",
        "    sql_select_query = \"select sensor_id, value from data_log, info_time where data_log.info_id = info_time.info_id AND data_log.triplet_id = '\"+t+\"' ORDER BY data_log.info_id desc limit 60\"\n",
        "    date_select_query = \"select Date_Time from info_time where triplet_id='\"+t+\"' order by info_id desc limit 1\"\n",
        "\n",
        "    cursor = myconn.cursor()\n",
        "    cursor.execute(sql_select_query)\n",
        "    data = cursor.fetchall()\n",
        "\n",
        "    cursor.execute(date_select_query)\n",
        "    date = cursor.fetchall()\n",
        "\n",
        "    myconn.close()\n",
        "    return data,date[0][0]\n"
      ]
    },
    {
      "cell_type": "code",
      "execution_count": 8,
      "metadata": {
        "id": "4hZxJwAVjB_w"
      },
      "outputs": [
        {
          "name": "stdout",
          "output_type": "stream",
          "text": [
            "Data:\n",
            "('s7', '563')\n",
            "('s5', '-0.77,-0.01,-0.45,7.74,4.21,-5.55,0.00,0.00,0.00,0')\n",
            "('s4', '0.00')\n",
            "('s3', '0')\n",
            "('s2', '1054.10')\n",
            "('s1', '1.40,24')\n",
            "('s7', '563')\n",
            "('s5', '-0.77,-0.00,-0.45,9.33,4.15,-5.85,0.00,0.00,0.00,0')\n",
            "('s4', '0.00')\n",
            "('s3', '0')\n",
            "('s2', '1054.14')\n",
            "('s1', '1.70,34')\n",
            "('s7', '562')\n",
            "('s5', '-0.78,-0.01,-0.44,7.87,5.18,-4.63,0.00,0.00,0.00,0')\n",
            "('s4', '0.00')\n",
            "('s3', '0')\n",
            "('s2', '1054.31')\n",
            "('s1', '2.00,29')\n",
            "('s7', '562')\n",
            "('s5', '-0.77,0.00,-0.44,8.17,6.04,-5.91,0.00,0.00,0.00,0')\n",
            "('s4', '0.00')\n",
            "('s3', '0')\n",
            "('s2', '1054.44')\n",
            "('s1', '1.80,30')\n",
            "('s7', '562')\n",
            "('s5', '-0.77,-0.00,-0.44,6.40,5.43,-4.21,0.00,0.00,0.00,0')\n",
            "('s4', '0.00')\n",
            "('s3', '0')\n",
            "('s2', '1054.45')\n",
            "('s1', '2.20,34')\n",
            "('s7', '561')\n",
            "('s5', '-0.77,-0.00,-0.44,7.26,5.00,-4.88,0.00,0.00,0.00,0')\n",
            "('s4', '0.00')\n",
            "('s3', '0')\n",
            "('s2', '1054.39')\n",
            "('s1', '1.70,26')\n",
            "('s7', '561')\n",
            "('s5', '-0.77,-0.00,-0.44,6.83,4.88,-5.67,0.00,0.00,0.00,0')\n",
            "('s4', '0.00')\n",
            "('s3', '0')\n",
            "('s2', '1054.48')\n",
            "('s1', '1.30,29')\n",
            "('s7', '561')\n",
            "('s5', '-0.77,0.00,-0.45,6.71,4.27,-4.76,0.00,0.00,0.00,0')\n",
            "('s4', '0.00')\n",
            "('s3', '0')\n",
            "('s2', '1054.42')\n",
            "('s1', '2.20,27')\n",
            "('s7', '560')\n",
            "('s5', '-0.77,-0.00,-0.45,6.89,5.12,-5.43,0.00,0.00,0.00,0')\n",
            "('s4', '0.00')\n",
            "('s3', '0')\n",
            "('s2', '1054.45')\n",
            "('s1', '1.60,27')\n",
            "('s7', '560')\n",
            "('s5', '-0.77,0.00,-0.43,5.67,5.00,-4.57,0.00,0.00,0.00,0')\n",
            "('s4', '0.00')\n",
            "('s3', '0')\n",
            "('s2', '1054.47')\n",
            "('s1', '2.20,25')\n",
            "Date: 2024-03-14 23:57:13\n"
          ]
        }
      ],
      "source": [
        "triplet_id = \"t51\"\n",
        "data, date_value = loadData(triplet_id)\n",
        "print(\"Data:\")\n",
        "# print(data)\n",
        "for row in data:\n",
        "    print(row)\n",
        "\n",
        "print(\"Date:\", date_value)"
      ]
    },
    {
      "cell_type": "code",
      "execution_count": 9,
      "metadata": {
        "colab": {
          "base_uri": "https://localhost:8080/"
        },
        "id": "cQaXS7QSp_Is",
        "outputId": "f1ceb569-2104-458a-87b5-49f2de6ee2b0"
      },
      "outputs": [
        {
          "name": "stdout",
          "output_type": "stream",
          "text": [
            "[2.2, 25.0, 1054.47, 0.0, 0.0, -0.77, 0.0, -0.43, 5.67, 5.0, -4.57, 0.0, 560.0, 1.6, 27.0, 1054.45, 0.0, 0.0, -0.77, -0.0, -0.45, 6.89, 5.12, -5.43, 0.0, 560.0, 2.2, 27.0, 1054.42, 0.0, 0.0, -0.77, 0.0, -0.45, 6.71, 4.27, -4.76, 0.0, 561.0, 1.3, 29.0, 1054.48, 0.0, 0.0, -0.77, -0.0, -0.44, 6.83, 4.88, -5.67, 0.0, 561.0, 1.7, 26.0, 1054.39, 0.0, 0.0, -0.77, -0.0, -0.44, 7.26, 5.0, -4.88, 0.0, 561.0, 2.2, 34.0, 1054.45, 0.0, 0.0, -0.77, -0.0, -0.44, 6.4, 5.43, -4.21, 0.0, 562.0, 1.8, 30.0, 1054.44, 0.0, 0.0, -0.77, 0.0, -0.44, 8.17, 6.04, -5.91, 0.0, 562.0, 2.0, 29.0, 1054.31, 0.0, 0.0, -0.78, -0.01, -0.44, 7.87, 5.18, -4.63, 0.0, 562.0, 1.7, 34.0, 1054.14, 0.0, 0.0, -0.77, -0.0, -0.45, 9.33, 4.15, -5.85, 0.0, 563.0, 1.4, 24.0, 1054.1, 0.0, 0.0, -0.77, -0.01, -0.45, 7.74, 4.21, -5.55, 0.0, 563.0]\n",
            "[2.2, 25.0, 1054.47, 0.0, 0.0, -0.77, 0.0, -0.43, 5.67, 5.0, -4.57, 0.0, 560.0]\n",
            "[1.6, 27.0, 1054.45, 0.0, 0.0, -0.77, -0.0, -0.45, 6.89, 5.12, -5.43, 0.0, 560.0]\n",
            "[2.2, 27.0, 1054.42, 0.0, 0.0, -0.77, 0.0, -0.45, 6.71, 4.27, -4.76, 0.0, 561.0]\n",
            "[1.3, 29.0, 1054.48, 0.0, 0.0, -0.77, -0.0, -0.44, 6.83, 4.88, -5.67, 0.0, 561.0]\n",
            "[1.7, 26.0, 1054.39, 0.0, 0.0, -0.77, -0.0, -0.44, 7.26, 5.0, -4.88, 0.0, 561.0]\n",
            "[2.2, 34.0, 1054.45, 0.0, 0.0, -0.77, -0.0, -0.44, 6.4, 5.43, -4.21, 0.0, 562.0]\n",
            "[1.8, 30.0, 1054.44, 0.0, 0.0, -0.77, 0.0, -0.44, 8.17, 6.04, -5.91, 0.0, 562.0]\n",
            "[2.0, 29.0, 1054.31, 0.0, 0.0, -0.78, -0.01, -0.44, 7.87, 5.18, -4.63, 0.0, 562.0]\n",
            "[1.7, 34.0, 1054.14, 0.0, 0.0, -0.77, -0.0, -0.45, 9.33, 4.15, -5.85, 0.0, 563.0]\n",
            "[1.4, 24.0, 1054.1, 0.0, 0.0, -0.77, -0.01, -0.45, 7.74, 4.21, -5.55, 0.0, 563.0]\n"
          ]
        }
      ],
      "source": [
        "def dataPreprocess(data):\n",
        "    result = []\n",
        "    data.reverse()\n",
        "\n",
        "    combined_data = []\n",
        "    for i in range(0, len(data), 7):\n",
        "        row = data[i:i+7]\n",
        "        sensor_data = []\n",
        "\n",
        "        for s, d in row:\n",
        "            sid = s\n",
        "            if sid == 's6':\n",
        "                continue\n",
        "            elif sid == 's5':\n",
        "                x = d.split(',')[:6]\n",
        "                for j in x:\n",
        "                    sensor_data.append(float(j))\n",
        "                x = d.split(',')[-1]\n",
        "                sensor_data.append(float(x))\n",
        "            elif sid.startswith('s'):\n",
        "                x = d.split(',')[:]\n",
        "                for j in x:\n",
        "                    sensor_data.append(float(j))\n",
        "\n",
        "        combined_data.extend(sensor_data)\n",
        "\n",
        "    data = np.array(combined_data)\n",
        "    return combined_data\n",
        "\n",
        "\n",
        "preprocessed_data = dataPreprocess(data)\n",
        "split_rows = [preprocessed_data[i:i+13] for i in range(0, len(preprocessed_data), 13)]\n",
        "\n",
        "print(preprocessed_data)\n",
        "for row in split_rows:\n",
        "    print(row)"
      ]
    },
    {
      "cell_type": "code",
      "execution_count": 10,
      "metadata": {
        "id": "oItTz886p_N9"
      },
      "outputs": [
        {
          "name": "stdout",
          "output_type": "stream",
          "text": [
            "[[[ 2.20000e+00  2.50000e+01  1.05447e+03  0.00000e+00  0.00000e+00\n",
            "   -7.70000e-01  0.00000e+00 -4.30000e-01  5.67000e+00  5.00000e+00\n",
            "   -4.57000e+00  0.00000e+00  5.60000e+02]\n",
            "  [ 1.60000e+00  2.70000e+01  1.05445e+03  0.00000e+00  0.00000e+00\n",
            "   -7.70000e-01 -0.00000e+00 -4.50000e-01  6.89000e+00  5.12000e+00\n",
            "   -5.43000e+00  0.00000e+00  5.60000e+02]\n",
            "  [ 2.20000e+00  2.70000e+01  1.05442e+03  0.00000e+00  0.00000e+00\n",
            "   -7.70000e-01  0.00000e+00 -4.50000e-01  6.71000e+00  4.27000e+00\n",
            "   -4.76000e+00  0.00000e+00  5.61000e+02]\n",
            "  [ 1.30000e+00  2.90000e+01  1.05448e+03  0.00000e+00  0.00000e+00\n",
            "   -7.70000e-01 -0.00000e+00 -4.40000e-01  6.83000e+00  4.88000e+00\n",
            "   -5.67000e+00  0.00000e+00  5.61000e+02]\n",
            "  [ 1.70000e+00  2.60000e+01  1.05439e+03  0.00000e+00  0.00000e+00\n",
            "   -7.70000e-01 -0.00000e+00 -4.40000e-01  7.26000e+00  5.00000e+00\n",
            "   -4.88000e+00  0.00000e+00  5.61000e+02]\n",
            "  [ 2.20000e+00  3.40000e+01  1.05445e+03  0.00000e+00  0.00000e+00\n",
            "   -7.70000e-01 -0.00000e+00 -4.40000e-01  6.40000e+00  5.43000e+00\n",
            "   -4.21000e+00  0.00000e+00  5.62000e+02]\n",
            "  [ 1.80000e+00  3.00000e+01  1.05444e+03  0.00000e+00  0.00000e+00\n",
            "   -7.70000e-01  0.00000e+00 -4.40000e-01  8.17000e+00  6.04000e+00\n",
            "   -5.91000e+00  0.00000e+00  5.62000e+02]\n",
            "  [ 2.00000e+00  2.90000e+01  1.05431e+03  0.00000e+00  0.00000e+00\n",
            "   -7.80000e-01 -1.00000e-02 -4.40000e-01  7.87000e+00  5.18000e+00\n",
            "   -4.63000e+00  0.00000e+00  5.62000e+02]\n",
            "  [ 1.70000e+00  3.40000e+01  1.05414e+03  0.00000e+00  0.00000e+00\n",
            "   -7.70000e-01 -0.00000e+00 -4.50000e-01  9.33000e+00  4.15000e+00\n",
            "   -5.85000e+00  0.00000e+00  5.63000e+02]\n",
            "  [ 1.40000e+00  2.40000e+01  1.05410e+03  0.00000e+00  0.00000e+00\n",
            "   -7.70000e-01 -1.00000e-02 -4.50000e-01  7.74000e+00  4.21000e+00\n",
            "   -5.55000e+00  0.00000e+00  5.63000e+02]]]\n"
          ]
        }
      ],
      "source": [
        "import tensorflow as tf\n",
        "data_list = []\n",
        "count = 0\n",
        "for i in range(10):\n",
        "    d = preprocessed_data[count:count+13]\n",
        "    data_list.append(d)\n",
        "    count += 13\n",
        "\n",
        "data_array = np.array(data_list)\n",
        "data_array = data_array.reshape((-1, 10, 13))\n",
        "data_tensor = tf.convert_to_tensor(data_array, dtype=tf.float32)\n",
        "print(data_array)"
      ]
    },
    {
      "cell_type": "code",
      "execution_count": 11,
      "metadata": {
        "id": "WEZZQNM3g5Fg"
      },
      "outputs": [
        {
          "name": "stdout",
          "output_type": "stream",
          "text": [
            "WARNING:tensorflow:From c:\\Users\\deepa\\AppData\\Local\\Programs\\Python\\Python311\\Lib\\site-packages\\keras\\src\\backend.py:1398: The name tf.executing_eagerly_outside_functions is deprecated. Please use tf.compat.v1.executing_eagerly_outside_functions instead.\n",
            "\n"
          ]
        },
        {
          "name": "stderr",
          "output_type": "stream",
          "text": [
            "WARNING:tensorflow:From c:\\Users\\deepa\\AppData\\Local\\Programs\\Python\\Python311\\Lib\\site-packages\\keras\\src\\backend.py:1398: The name tf.executing_eagerly_outside_functions is deprecated. Please use tf.compat.v1.executing_eagerly_outside_functions instead.\n",
            "\n"
          ]
        }
      ],
      "source": [
        "STOREDIR = ('finalmodel')\n",
        "model1 = tf.saved_model.load(STOREDIR)\n",
        "predict_fn = model1.signatures[\"serving_default\"]\n",
        "\n",
        "# Load the second model\n",
        "STOR = \"/content/drive/MyDrive/Count_data-LMS/urni dhank/\"\n",
        "model2 = tf.keras.models.load_model('website1.h5')\n",
        "\n",
        "# model1 = tf.saved_model.load('saved_model.pb')\n",
        "# predict_fn = model1.signatures[\"serving_default\"]\n",
        "# print(\"path: \",)\n",
        "# model2 = tf.keras.models.load_model('website1.h5')\n",
        "\n",
        "def runModel(data_tensor):\n",
        "    previous = 1\n",
        "    try:\n",
        "        # Run the prediction on the first model\n",
        "        pred = predict_fn(data_tensor)\n",
        "        pred = np.argmax(pred)\n",
        "        pred = np.round(pred).astype(int)\n",
        "\n",
        "        # Run the prediction on the second model\n",
        "        dt = data_tensor[:,:,0:5]\n",
        "        pred1 = model2.predict(dt)\n",
        "\n",
        "        combined_list = []\n",
        "        combined_list.extend([round(x,2) for x in pred1.tolist()[0]])\n",
        "        combined_list.append(pred)\n",
        "\n",
        "        return (combined_list)\n",
        "    except Exception as e:\n",
        "        print(f\"Error occurred: {str(e)}\")\n",
        "        return None"
      ]
    },
    {
      "cell_type": "code",
      "execution_count": 18,
      "metadata": {
        "id": "C2BS4hwbvxx0"
      },
      "outputs": [],
      "source": [
        "from datetime import date\n",
        "\n",
        "\n",
        "def insertDatabase(prediction, triplet_id):\n",
        "    connection = mysql.connector.connect(host = \"82.180.142.51\",\n",
        "                                database = \"u978805288_land\",\n",
        "                                user =   \"u978805288_root\",\n",
        "                                password= \"ACSL@b123\")\n",
        "    try:\n",
        "        (connection)\n",
        "        current_time = date + datetime.timedelta()\n",
        "        print('current_time:',current_time)\n",
        "\n",
        "        val = \"(NULL,'\" +(triplet_id)+\"',\"+ str(prediction[0])+\",\"+ str(prediction[1])+\",\"+str(prediction[2])+\",\"+str(prediction[3])+\",\"+str(prediction[4])+\",\"+str(prediction[5])+ \",'\"+str(current_time)+ \"','no')\"\n",
        "\n",
        "        add_prediction = \"INSERT INTO Prediction_Real_Data  VALUES \"+val\n",
        "        print(add_prediction)\n",
        "\n",
        "        cursor = connection.cursor()\n",
        "        cursor.execute(add_prediction)\n",
        "        connection.commit()\n",
        "        print(cursor.rowcount, \"Record inserted successfully into prediction table\")\n",
        "        cursor.close()\n",
        "\n",
        "    except mysql.connector.Error as error:\n",
        "        print(\"Failed to insert record into prediction table {}\".format(error))\n",
        "\n",
        "    finally:\n",
        "        if connection.is_connected():\n",
        "            connection.close()"
      ]
    },
    {
      "cell_type": "code",
      "execution_count": 19,
      "metadata": {
        "id": "aPiCivSW7Bw7"
      },
      "outputs": [
        {
          "name": "stdout",
          "output_type": "stream",
          "text": [
            "2022-05-16 15:23:42\n",
            "1/1 [==============================] - 0s 41ms/step\n",
            "[23.86, 67.89, 984.09, 0.0, 453.39, 0]\n",
            "current_time: 2022-05-16 15:33:42\n",
            "INSERT INTO Prediction_Real_Data  VALUES (NULL,'t50',23.86,67.89,984.09,0.0,453.39,0,'2022-05-16 15:33:42','no')\n",
            "1 Record inserted successfully into prediction table\n",
            "Enjoy\n",
            "2022-05-16 15:23:42\n",
            "1/1 [==============================] - 0s 40ms/step\n",
            "[23.86, 67.89, 984.09, 0.0, 453.39, 0]\n",
            "current_time: 2022-05-16 15:33:42\n",
            "INSERT INTO Prediction_Real_Data  VALUES (NULL,'t50',23.86,67.89,984.09,0.0,453.39,0,'2022-05-16 15:33:42','no')\n",
            "1 Record inserted successfully into prediction table\n",
            "Enjoy\n",
            "2022-05-16 15:23:42\n",
            "1/1 [==============================] - 0s 45ms/step\n",
            "[23.86, 67.89, 984.09, 0.0, 453.39, 0]\n",
            "current_time: 2022-05-16 15:33:42\n",
            "INSERT INTO Prediction_Real_Data  VALUES (NULL,'t50',23.86,67.89,984.09,0.0,453.39,0,'2022-05-16 15:33:42','no')\n",
            "1 Record inserted successfully into prediction table\n",
            "Enjoy\n",
            "2022-05-16 15:23:42\n",
            "1/1 [==============================] - 0s 41ms/step\n",
            "[23.86, 67.89, 984.09, 0.0, 453.39, 0]\n",
            "current_time: 2022-05-16 15:33:42\n",
            "INSERT INTO Prediction_Real_Data  VALUES (NULL,'t50',23.86,67.89,984.09,0.0,453.39,0,'2022-05-16 15:33:42','no')\n",
            "1 Record inserted successfully into prediction table\n",
            "Enjoy\n",
            "2022-05-16 15:23:42\n",
            "1/1 [==============================] - 0s 48ms/step\n",
            "[23.86, 67.89, 984.09, 0.0, 453.39, 0]\n",
            "current_time: 2022-05-16 15:33:42\n",
            "INSERT INTO Prediction_Real_Data  VALUES (NULL,'t50',23.86,67.89,984.09,0.0,453.39,0,'2022-05-16 15:33:42','no')\n",
            "1 Record inserted successfully into prediction table\n",
            "Enjoy\n",
            "2022-05-16 15:23:42\n",
            "1/1 [==============================] - 0s 39ms/step\n",
            "[23.86, 67.89, 984.09, 0.0, 453.39, 0]\n",
            "current_time: 2022-05-16 15:33:42\n",
            "INSERT INTO Prediction_Real_Data  VALUES (NULL,'t50',23.86,67.89,984.09,0.0,453.39,0,'2022-05-16 15:33:42','no')\n",
            "1 Record inserted successfully into prediction table\n",
            "Enjoy\n",
            "2022-05-16 15:23:42\n",
            "1/1 [==============================] - 0s 38ms/step\n",
            "[23.86, 67.89, 984.09, 0.0, 453.39, 0]\n",
            "current_time: 2022-05-16 15:33:42\n",
            "INSERT INTO Prediction_Real_Data  VALUES (NULL,'t50',23.86,67.89,984.09,0.0,453.39,0,'2022-05-16 15:33:42','no')\n",
            "1 Record inserted successfully into prediction table\n",
            "Enjoy\n"
          ]
        },
        {
          "ename": "KeyboardInterrupt",
          "evalue": "",
          "output_type": "error",
          "traceback": [
            "\u001b[1;31m---------------------------------------------------------------------------\u001b[0m",
            "\u001b[1;31mKeyboardInterrupt\u001b[0m                         Traceback (most recent call last)",
            "Cell \u001b[1;32mIn[19], line 4\u001b[0m\n\u001b[0;32m      2\u001b[0m count \u001b[38;5;241m=\u001b[39m \u001b[38;5;241m0\u001b[39m\n\u001b[0;32m      3\u001b[0m \u001b[38;5;28;01mfor\u001b[39;00m triplet_id \u001b[38;5;129;01min\u001b[39;00m station:\n\u001b[1;32m----> 4\u001b[0m   data,date \u001b[38;5;241m=\u001b[39m \u001b[43mloadData\u001b[49m\u001b[43m(\u001b[49m\u001b[43mtriplet_id\u001b[49m\u001b[43m)\u001b[49m\n\u001b[0;32m      5\u001b[0m   \u001b[38;5;28mprint\u001b[39m(date)\n\u001b[0;32m      6\u001b[0m   date \u001b[38;5;241m=\u001b[39m date\u001b[38;5;241m+\u001b[39m datetime\u001b[38;5;241m.\u001b[39mtimedelta(minutes\u001b[38;5;241m=\u001b[39m\u001b[38;5;241m10\u001b[39m)\n",
            "Cell \u001b[1;32mIn[11], line 12\u001b[0m, in \u001b[0;36mloadData\u001b[1;34m(t)\u001b[0m\n\u001b[0;32m      9\u001b[0m date_select_query \u001b[38;5;241m=\u001b[39m \u001b[38;5;124m\"\u001b[39m\u001b[38;5;124mselect Date_Time from info_time where triplet_id=\u001b[39m\u001b[38;5;124m'\u001b[39m\u001b[38;5;124m\"\u001b[39m\u001b[38;5;241m+\u001b[39mt\u001b[38;5;241m+\u001b[39m\u001b[38;5;124m\"\u001b[39m\u001b[38;5;124m'\u001b[39m\u001b[38;5;124m order by info_id desc limit 1\u001b[39m\u001b[38;5;124m\"\u001b[39m\n\u001b[0;32m     11\u001b[0m cursor \u001b[38;5;241m=\u001b[39m myconn\u001b[38;5;241m.\u001b[39mcursor()\n\u001b[1;32m---> 12\u001b[0m \u001b[43mcursor\u001b[49m\u001b[38;5;241;43m.\u001b[39;49m\u001b[43mexecute\u001b[49m\u001b[43m(\u001b[49m\u001b[43msql_select_query\u001b[49m\u001b[43m)\u001b[49m\n\u001b[0;32m     13\u001b[0m data \u001b[38;5;241m=\u001b[39m cursor\u001b[38;5;241m.\u001b[39mfetchall()\n\u001b[0;32m     15\u001b[0m cursor\u001b[38;5;241m.\u001b[39mexecute(date_select_query)\n",
            "File \u001b[1;32mc:\\Users\\deepa\\AppData\\Local\\Programs\\Python\\Python311\\Lib\\site-packages\\mysql\\connector\\cursor_cext.py:279\u001b[0m, in \u001b[0;36mCMySQLCursor.execute\u001b[1;34m(self, operation, params, multi)\u001b[0m\n\u001b[0;32m    274\u001b[0m             \u001b[38;5;28;01mraise\u001b[39;00m ProgrammingError(\n\u001b[0;32m    275\u001b[0m                 \u001b[38;5;124m\"\u001b[39m\u001b[38;5;124mNot all parameters were used in the SQL statement\u001b[39m\u001b[38;5;124m\"\u001b[39m\n\u001b[0;32m    276\u001b[0m             )\n\u001b[0;32m    278\u001b[0m \u001b[38;5;28;01mtry\u001b[39;00m:\n\u001b[1;32m--> 279\u001b[0m     result \u001b[38;5;241m=\u001b[39m \u001b[38;5;28;43mself\u001b[39;49m\u001b[38;5;241;43m.\u001b[39;49m\u001b[43m_cnx\u001b[49m\u001b[38;5;241;43m.\u001b[39;49m\u001b[43mcmd_query\u001b[49m\u001b[43m(\u001b[49m\n\u001b[0;32m    280\u001b[0m \u001b[43m        \u001b[49m\u001b[43mstmt\u001b[49m\u001b[43m,\u001b[49m\n\u001b[0;32m    281\u001b[0m \u001b[43m        \u001b[49m\u001b[43mraw\u001b[49m\u001b[38;5;241;43m=\u001b[39;49m\u001b[38;5;28;43mself\u001b[39;49m\u001b[38;5;241;43m.\u001b[39;49m\u001b[43m_raw\u001b[49m\u001b[43m,\u001b[49m\n\u001b[0;32m    282\u001b[0m \u001b[43m        \u001b[49m\u001b[43mbuffered\u001b[49m\u001b[38;5;241;43m=\u001b[39;49m\u001b[38;5;28;43mself\u001b[39;49m\u001b[38;5;241;43m.\u001b[39;49m\u001b[43m_buffered\u001b[49m\u001b[43m,\u001b[49m\n\u001b[0;32m    283\u001b[0m \u001b[43m        \u001b[49m\u001b[43mraw_as_string\u001b[49m\u001b[38;5;241;43m=\u001b[39;49m\u001b[38;5;28;43mself\u001b[39;49m\u001b[38;5;241;43m.\u001b[39;49m\u001b[43m_raw_as_string\u001b[49m\u001b[43m,\u001b[49m\n\u001b[0;32m    284\u001b[0m \u001b[43m    \u001b[49m\u001b[43m)\u001b[49m\n\u001b[0;32m    285\u001b[0m \u001b[38;5;28;01mexcept\u001b[39;00m MySQLInterfaceError \u001b[38;5;28;01mas\u001b[39;00m err:\n\u001b[0;32m    286\u001b[0m     \u001b[38;5;28;01mraise\u001b[39;00m get_mysql_exception(\n\u001b[0;32m    287\u001b[0m         msg\u001b[38;5;241m=\u001b[39merr\u001b[38;5;241m.\u001b[39mmsg, errno\u001b[38;5;241m=\u001b[39merr\u001b[38;5;241m.\u001b[39merrno, sqlstate\u001b[38;5;241m=\u001b[39merr\u001b[38;5;241m.\u001b[39msqlstate\n\u001b[0;32m    288\u001b[0m     ) \u001b[38;5;28;01mfrom\u001b[39;00m \u001b[38;5;21;01merr\u001b[39;00m\n",
            "File \u001b[1;32mc:\\Users\\deepa\\AppData\\Local\\Programs\\Python\\Python311\\Lib\\site-packages\\mysql\\connector\\connection_cext.py:565\u001b[0m, in \u001b[0;36mCMySQLConnection.cmd_query\u001b[1;34m(self, query, raw, buffered, raw_as_string)\u001b[0m\n\u001b[0;32m    563\u001b[0m     \u001b[38;5;28;01mif\u001b[39;00m \u001b[38;5;129;01mnot\u001b[39;00m \u001b[38;5;28misinstance\u001b[39m(query, \u001b[38;5;28mbytes\u001b[39m):\n\u001b[0;32m    564\u001b[0m         query \u001b[38;5;241m=\u001b[39m query\u001b[38;5;241m.\u001b[39mencode(\u001b[38;5;124m\"\u001b[39m\u001b[38;5;124mutf-8\u001b[39m\u001b[38;5;124m\"\u001b[39m)\n\u001b[1;32m--> 565\u001b[0m     \u001b[38;5;28;43mself\u001b[39;49m\u001b[38;5;241;43m.\u001b[39;49m\u001b[43m_cmysql\u001b[49m\u001b[38;5;241;43m.\u001b[39;49m\u001b[43mquery\u001b[49m\u001b[43m(\u001b[49m\n\u001b[0;32m    566\u001b[0m \u001b[43m        \u001b[49m\u001b[43mquery\u001b[49m\u001b[43m,\u001b[49m\n\u001b[0;32m    567\u001b[0m \u001b[43m        \u001b[49m\u001b[43mraw\u001b[49m\u001b[38;5;241;43m=\u001b[39;49m\u001b[43mraw\u001b[49m\u001b[43m,\u001b[49m\n\u001b[0;32m    568\u001b[0m \u001b[43m        \u001b[49m\u001b[43mbuffered\u001b[49m\u001b[38;5;241;43m=\u001b[39;49m\u001b[43mbuffered\u001b[49m\u001b[43m,\u001b[49m\n\u001b[0;32m    569\u001b[0m \u001b[43m        \u001b[49m\u001b[43mraw_as_string\u001b[49m\u001b[38;5;241;43m=\u001b[39;49m\u001b[43mraw_as_string\u001b[49m\u001b[43m,\u001b[49m\n\u001b[0;32m    570\u001b[0m \u001b[43m        \u001b[49m\u001b[43mquery_attrs\u001b[49m\u001b[38;5;241;43m=\u001b[39;49m\u001b[38;5;28;43mself\u001b[39;49m\u001b[38;5;241;43m.\u001b[39;49m\u001b[43m_query_attrs\u001b[49m\u001b[43m,\u001b[49m\n\u001b[0;32m    571\u001b[0m \u001b[43m    \u001b[49m\u001b[43m)\u001b[49m\n\u001b[0;32m    572\u001b[0m \u001b[38;5;28;01mexcept\u001b[39;00m MySQLInterfaceError \u001b[38;5;28;01mas\u001b[39;00m err:\n\u001b[0;32m    573\u001b[0m     \u001b[38;5;28;01mraise\u001b[39;00m get_mysql_exception(\n\u001b[0;32m    574\u001b[0m         err\u001b[38;5;241m.\u001b[39merrno, msg\u001b[38;5;241m=\u001b[39merr\u001b[38;5;241m.\u001b[39mmsg, sqlstate\u001b[38;5;241m=\u001b[39merr\u001b[38;5;241m.\u001b[39msqlstate\n\u001b[0;32m    575\u001b[0m     ) \u001b[38;5;28;01mfrom\u001b[39;00m \u001b[38;5;21;01merr\u001b[39;00m\n",
            "\u001b[1;31mKeyboardInterrupt\u001b[0m: "
          ]
        }
      ],
      "source": [
        "while True:\n",
        "  count = 0\n",
        "  for triplet_id in station:\n",
        "    data,date = loadData(triplet_id)\n",
        "    print(date)\n",
        "    date = date+ datetime.timedelta(minutes=10)\n",
        "    data = dataPreprocess(data)\n",
        "    data_list = []\n",
        "    count = 0\n",
        "    for i in range(10):\n",
        "        d = preprocessed_data[count:count+13]\n",
        "        data_list.append(d)\n",
        "        count += 13\n",
        "\n",
        "    data_array = np.array(data_list)\n",
        "    data_array = data_array.reshape((-1, 10, 13))\n",
        "    data_tensor = tf.convert_to_tensor(data_array, dtype=tf.float32)\n",
        "    prediction = runModel(data_tensor)\n",
        "    print(prediction)\n",
        "    insertDatabase(prediction,triplet_id)\n",
        "    print('Enjoy')\n",
        "  count+=1"
      ]
    },
    {
      "cell_type": "code",
      "execution_count": null,
      "metadata": {
        "id": "edIfZm8shTd4"
      },
      "outputs": [],
      "source": []
    },
    {
      "cell_type": "code",
      "execution_count": null,
      "metadata": {
        "id": "vObrxqIXhThW"
      },
      "outputs": [],
      "source": []
    },
    {
      "cell_type": "code",
      "execution_count": null,
      "metadata": {
        "id": "5TF-Vjpovx4s"
      },
      "outputs": [],
      "source": []
    },
    {
      "cell_type": "code",
      "execution_count": null,
      "metadata": {
        "id": "EeQwQQS98lpy"
      },
      "outputs": [],
      "source": []
    }
  ],
  "metadata": {
    "colab": {
      "provenance": []
    },
    "kernelspec": {
      "display_name": "Python 3",
      "name": "python3"
    },
    "language_info": {
      "codemirror_mode": {
        "name": "ipython",
        "version": 3
      },
      "file_extension": ".py",
      "mimetype": "text/x-python",
      "name": "python",
      "nbconvert_exporter": "python",
      "pygments_lexer": "ipython3",
      "version": "3.11.1"
    }
  },
  "nbformat": 4,
  "nbformat_minor": 0
}
