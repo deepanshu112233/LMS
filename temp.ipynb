{
 "cells": [
  {
   "cell_type": "code",
   "execution_count": null,
   "metadata": {},
   "outputs": [],
   "source": [
    "# for id, coords in location_id.items():\n",
    "#     lat = coords[\"lat\"]\n",
    "#     lon = coords[\"lon\"]\n",
    "#     data, date = loadData(id)\n",
    "#     preprocessed_data = dataPreprocess(data)\n",
    "#     data_list = []\n",
    "#     count = 0\n",
    "#     for i in range(10):\n",
    "#         d = preprocessed_data[count:count+13]\n",
    "#         data_list.append(d)\n",
    "#         count += 13\n",
    "\n",
    "#     data_array = np.array(data_list)\n",
    "#     data_array = data_array.reshape((-1, 10, 13)).astype(np.float32)\n",
    "\n",
    "#     print(data_array)\n",
    "\n",
    "# # trip_id    temp    humi    press   rain    ligh"
   ]
  },
  {
   "cell_type": "code",
   "execution_count": null,
   "metadata": {},
   "outputs": [],
   "source": [
    "# \"\"\"\n",
    "# correct: t33, t28, t38, t39, t55, t61, t76\n",
    "# same data by model: t36 t37 t40 t41 t51 t63 t64 t70 t71 t74 t75 t77 t82 t83\n",
    "# error: t50 t53 t67 t69 t72 t73 t78 t79 t81 t84 t29 t32 t54 t56 t80\n",
    "# \"\"\"\n",
    "\n",
    "# station = ['t27', 't28', 't36', 't37', 't38', 't39', 't40', 't41', 't50', 't51', 't52', 't53', 't54', 't55', 't56', 't61', 't62', 't63',\n",
    "#            't64', 't65', 't66', 't67', 't68', 't69', 't70', 't71', 't72', 't73', 't74', 't75', 't78', 't79', 't80', 't81', 't82', 't83', 't84']\n",
    "\n",
    "# location_id = {\n",
    "#     \"t27\": {\"lat\": 31.923, \"lon\": 77.236},  # balianala\n",
    "#     \"t32\": {\"lat\": 30.888, \"lon\": 77.057},  # Kumarhatti\n",
    "#     \"t36\": {\"lat\": 31.777, \"lon\": 76.971},  # Griffon_Peak2\n",
    "#     \"t37\": {\"lat\": 31.777, \"lon\": 76.971},  # Griffon_Peak1\n",
    "#     \"t38\": {\"lat\": 31.777, \"lon\": 76.971},  # Griffon_Peak3\n",
    "#     \"t40\":  {\"lat\": 31.351, \"lon\": 77.618},  # Ghoda farm 1\n",
    "#     \"t41\":  {\"lat\": 31.351, \"lon\": 77.618},  # Ghoda farm 2\n",
    "#     \"t50\": {\"lat\": 31.781, \"lon\": 76.994},  # IIT Mandi A9\n",
    "#     \"t51\": {\"lat\": 31.403, \"lon\": 78.303},  # Batseri kinnaur\n",
    "#     \"t52\": {\"lat\": 31.554, \"lon\": 77.810},  # nigulsari kinnaur\n",
    "#     \"t53\": {\"lat\": 31.534, \"lon\": 78.130},  # Urni Dhank kinnaur\n",
    "#     \"t54\": {\"lat\": 31.532, \"lon\": 78.047},  # Pagal_Nala_Kinnaur\n",
    "#     \"t55\": {\"lat\": 31.433, \"lon\": 78.247},  # Kuppa_Kinnaur\n",
    "#     \"t56\": {\"lat\": 31.590, \"lon\": 78.300},  # purbani_Kinnaur\n",
    "#     \"t61\": {\"lat\": 31.248, \"lon\": 77.089},  # tattapni_mandi\n",
    "#     \"t62\": {\"lat\": 31.400, \"lon\": 77.206},  # sanarli_1\n",
    "#     \"t63\": {\"lat\": 31.923, \"lon\": 77.236},  # sanarli_2\n",
    "#     \"t64\": {\"lat\": 31.923, \"lon\": 77.236},  # sanarli_3\n",
    "#     \"t65\": {\"lat\": 31.923, \"lon\": 77.236},  # Garud_nala\n",
    "#     \"t67\": {\"lat\": 31.777, \"lon\": 76.971},  # Griffon Peak IIT mandi\n",
    "#     \"t69\": {\"lat\": 31.351, \"lon\": 77.618},  # Ghoda farm 4\n",
    "#     \"t70\": {\"lat\": 31.351, \"lon\": 77.618},  # Ghoda farm 5\n",
    "#     \"t71\": {\"lat\": 31.851, \"lon\": 76.635},  # sandhol\n",
    "#     \"t72\": {\"lat\": 32.226, \"lon\": 76.326},  # dharmshala\n",
    "#     \"t73\": {\"lat\": 32.242, \"lon\": 76.321},  # mcleaodganj\n",
    "#     \"t74\": {\"lat\": 31.789, \"lon\": 76.267},  # chola kangra\n",
    "#     \"t75\": {\"lat\": 31.917, \"lon\": 76.120},  # Diba shahpur\n",
    "#     \"t78\": {\"lat\": 32.101, \"lon\": 76.273},  # Kangra colony\n",
    "#     \"t79\": {\"lat\": 32.292, \"lon\": 75.996},  # Bariara\n",
    "#     \"t80\": {\"lat\": 32.311, \"lon\": 75.895},  # Baldun\n",
    "#     \"t81\": {\"lat\": 31.777, \"lon\": 76.971},  # Griffon_Peak\n",
    "#     \"t82\": {\"lat\": 31.777, \"lon\": 76.971},  # Griffon_Peak\n",
    "#     \"t83\": {\"lat\": 31.777, \"lon\": 76.971},  # Griffon_Peak9\n",
    "#     \"t84\": {\"lat\": 31.777, \"lon\": 76.971},  # Griffon_Peak\n",
    "# }\n",
    "\n",
    "# location_id = {\n",
    "# \"t39\": {\"lat\": 31.777, \"lon\": 76.971},  # Griffon_Peak3\n",
    "# \"t56\": {\"lat\": 31.590, \"lon\": 78.300},  # Purbani_kinnaur\n",
    "# \"t61\": {\"lat\": 31.248, \"lon\": 77.089},  # Tattapani_Mandi\n",
    "# \"t72\": {\"lat\": 32.226, \"lon\": 76.326},  # Dharmshala Kangra\n",
    "# \"t79\": {\"lat\": 32.292, \"lon\": 75.996},  # Bariara_Nurpur_Kangra\n",
    "# \"t101\": {\"lat\": 31.104, \"lon\": 77.173} #32.300645971713784, 75.8835434290121\n",
    "# }\n",
    "# t39=triplet id\n",
    "# 103-rain\n",
    "# 79-rain,light\n",
    "# 72-rain\n",
    "# 61-rain\n",
    "# 56-ALL\n",
    "# 39-ALL\n",
    "# station = [\"t39\", \"t56\", \"t61\", \"t72\", \"t79\", \"t101\", \"t103\" (mandi)]"
   ]
  },
  {
   "cell_type": "code",
   "execution_count": 1,
   "metadata": {},
   "outputs": [
    {
     "name": "stdout",
     "output_type": "stream",
     "text": [
      "Current date and time: 2024-06-10 18:17:33.607441\n",
      "New date and time (10 minutes later): 2024-06-10 18:27:33.607441\n"
     ]
    }
   ],
   "source": [
    "import datetime\n",
    "\n",
    "# Create a datetime object for the current date and time\n",
    "current_date = datetime.datetime.now()\n",
    "print(\"Current date and time:\", current_date)\n",
    "\n",
    "# Add 10 minutes to the current date and time\n",
    "new_date = current_date + datetime.timedelta(minutes=10)\n",
    "print(\"New date and time (10 minutes later):\", new_date)"
   ]
  },
  {
   "cell_type": "code",
   "execution_count": null,
   "metadata": {},
   "outputs": [],
   "source": []
  }
 ],
 "metadata": {
  "kernelspec": {
   "display_name": "Python 3",
   "language": "python",
   "name": "python3"
  },
  "language_info": {
   "codemirror_mode": {
    "name": "ipython",
    "version": 3
   },
   "file_extension": ".py",
   "mimetype": "text/x-python",
   "name": "python",
   "nbconvert_exporter": "python",
   "pygments_lexer": "ipython3",
   "version": "3.11.1"
  }
 },
 "nbformat": 4,
 "nbformat_minor": 2
}
